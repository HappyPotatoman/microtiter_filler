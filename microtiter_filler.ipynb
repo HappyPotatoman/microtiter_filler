{
 "cells": [
  {
   "cell_type": "markdown",
   "metadata": {},
   "source": [
    "\n",
    "# The filling algorithm should do a few things.\n",
    "\n",
    "1. There are two possible sizes of microtiter plates 96-well (12x8) and 384-well (24x16) - return an error if there is overflow.\n",
    "2. Keep experiments grouped as much as possible - within experiments group samples and reagents\n",
    "\n",
    "# #1 Naive approach - greedily fill the plates and only group reagents and specimen that repeat within experiments.\n",
    "The plates will be represented as 12x8 or 24x16 matrix depending on the input and the cells will be filled iteratively experiment by experiment.\n",
    "The plate will be filled row by row from left to right and will be added to a result list once it is filled or all experiments are placed in the wells."
   ]
  },
  {
   "cell_type": "code",
   "execution_count": 6,
   "metadata": {},
   "outputs": [
    {
     "name": "stdout",
     "output_type": "stream",
     "text": [
      "Log message: Enough wells are available to distribute experiments.\n"
     ]
    }
   ],
   "source": [
    "from typing import List\n",
    "\n",
    "\n",
    "plate_size = 96\n",
    "samples = [['Sam 1', 'Sam 2', 'Sam 3'], ['Sam 1', 'Sam 3', 'Sam 4']]\n",
    "reagents = [['Reag X', 'Reag Y'], ['Reag Y', 'Reag Z']]\n",
    "replicas = [1, 3]\n",
    "well_num = 1\n",
    "\n",
    "class PlateFillError(Exception):\n",
    "    def __init__(self, message):\n",
    "        self.message = message\n",
    "        super().__init__(self.message)\n",
    "\n",
    "def greedy_fill(plate_size: int, samples: List[List[str]], reagents: List[List[str]], replicas: List[int], well_num: int) -> List[List[str]]:\n",
    "    wells_available = plate_size * well_num\n",
    "    wells_needed = 0\n",
    "    experiment_count = len(replicas)\n",
    "    for experiment_number in range(experiment_count):\n",
    "        wells_needed += len(samples[experiment_number]) * len(reagents[experiment_number]) * replicas[experiment_number]\n",
    "    \n",
    "    if wells_needed > wells_available:\n",
    "        error_message = f\"Number of wells needed {wells_needed} exceed available number of wells {wells_available}.\"\n",
    "        raise PlateFillError(error_message)\n",
    "\n",
    "    print(f\"Log message: Enough wells are available to distribute experiments.\")\n",
    "    \n",
    "    if plate_size == 96:\n",
    "        num_rows = 8\n",
    "        num_cols = 12\n",
    "    elif plate_size == 384:\n",
    "        num_rows = 16\n",
    "        num_cols = 24\n",
    "\n",
    "    plate = [[[None] for _ in range(num_cols)] for _ in range(num_rows)]\n",
    "    result = []\n",
    "\n",
    "    current_well = 0\n",
    "\n",
    "    for experiment_number in range(experiment_count):\n",
    "        experiment_samples = samples[experiment_number]\n",
    "        experiment_reagents = reagents[experiment_number]\n",
    "        experiment_replicas = replicas[experiment_number]\n",
    "\n",
    "        for replica in range(experiment_replicas):\n",
    "            for reagent in experiment_reagents:\n",
    "                for sample in experiment_samples:\n",
    "                    if current_well > plate_size:\n",
    "                        result.append(plate)\n",
    "                        plate = [[[None] for _ in range(num_cols)] for _ in range(num_rows)]\n",
    "                        current_well = 0\n",
    "\n",
    "                    row_index = current_well // num_cols\n",
    "                    col_index = current_well % num_cols\n",
    "\n",
    "                    plate[row_index][col_index] = [experiment_number + 1, sample, reagent]\n",
    "\n",
    "                    current_well += 1\n",
    "\n",
    "    if plate:\n",
    "        result.append(plate)\n",
    "\n",
    "    return result\n",
    "\n",
    "try:\n",
    "    plates = greedy_fill(plate_size=96, samples=samples, reagents=reagents, replicas=replicas, well_num=well_num)\n",
    "except PlateFillError as e:\n",
    "    print(f\"PlateFillError: {e.message}\")\n",
    "\n",
    "\n",
    "    \n"
   ]
  },
  {
   "cell_type": "markdown",
   "metadata": {},
   "source": [
    "# Visualize the resulting plates"
   ]
  },
  {
   "cell_type": "code",
   "execution_count": 7,
   "metadata": {},
   "outputs": [
    {
     "name": "stdout",
     "output_type": "stream",
     "text": [
      "Plate #1\n"
     ]
    },
    {
     "data": {
      "image/png": "[encoded data removed]",
      "text/plain": [
       "<Figure size 1500x1500 with 1 Axes>"
      ]
     },
     "metadata": {},
     "output_type": "display_data"
    }
   ],
   "source": [
    "import matplotlib.pyplot as plt\n",
    "import itertools\n",
    "\n",
    "def plot_plate(plate, color_map):\n",
    "    _, ax = plt.subplots(figsize=(15, 15))\n",
    "    for i, row in enumerate(plate):\n",
    "        for j, well in enumerate(row):\n",
    "            if well and all(w is not None for w in well):\n",
    "                reagent = well[2]\n",
    "                if reagent not in color_map:\n",
    "                    color_map[reagent] = next(color_cycle)\n",
    "                ax.text(j, i, f\"{well[0]}\\n{well[1]}\\n{well[2]}\", ha='center', va='center', fontsize=12, color='black')\n",
    "                ax.add_patch(plt.Rectangle((j-0.5, i-0.5), 1, 1, facecolor=color_map[reagent], edgecolor='black', linewidth=2))\n",
    "\n",
    "    ax.set_xlim(-0.5, len(plate[0])-0.5)\n",
    "    ax.set_ylim(-0.5, len(plate)-0.5)\n",
    "    ax.set_aspect('equal', 'box')\n",
    "    plt.gca().invert_yaxis()\n",
    "    plt.axis('off')\n",
    "    plt.show()\n",
    "\n",
    "colors = ['red', 'green', 'blue', 'purple', 'orange', 'pink', 'brown', 'cyan', 'magenta']\n",
    "color_cycle = itertools.cycle(colors)\n",
    "\n",
    "color_map = {}\n",
    "\n",
    "for i, plate in enumerate(plates, 1):\n",
    "    print(f\"Plate #{i}\")\n",
    "    plot_plate(plate, color_map)\n",
    "    # plt.savefig(f'Plate_{i}.png')\n",
    "\n"
   ]
  }
 ],
 "metadata": {
  "kernelspec": {
   "display_name": "Python 3",
   "language": "python",
   "name": "python3"
  },
  "language_info": {
   "codemirror_mode": {
    "name": "ipython",
    "version": 3
   },
   "file_extension": ".py",
   "mimetype": "text/x-python",
   "name": "python",
   "nbconvert_exporter": "python",
   "pygments_lexer": "ipython3",
   "version": "3.10.11"
  },
  "orig_nbformat": 4
 },
 "nbformat": 4,
 "nbformat_minor": 2
}
